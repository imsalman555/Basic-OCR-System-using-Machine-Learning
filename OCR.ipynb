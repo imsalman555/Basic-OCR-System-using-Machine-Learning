{
 "cells": [
  {
   "cell_type": "code",
   "execution_count": 1,
   "metadata": {},
   "outputs": [],
   "source": [
    "import numpy as np"
   ]
  },
  {
   "cell_type": "code",
   "execution_count": 2,
   "metadata": {},
   "outputs": [],
   "source": [
    "#assuming that the training data (y) is in acsending order of classes\n",
    "def refineTrainingClasses(filename):\n",
    "    t_classes = np.genfromtxt(filename, np.uint8)\n",
    "    idx2, = np.where(t_classes == 2)\n",
    "    t_class2 = t_classes[:len(idx2)]\n",
    "    idx4, = np.where(t_classes == 4)\n",
    "    t_class4 = t_classes[len(idx2):len(idx2)+(len(idx4))]\n",
    "    return t_class2, t_class4, len(idx2), (len(idx4)+len(idx2))\n",
    "\n",
    "#assuming that the training data (X) is in acsending order of classes\n",
    "def refineTrainingImages(filename, last_idx2, last_idx4):\n",
    "    t_imgs = np.genfromtxt(filename, np.uint8)\n",
    "    t_imgs_class2 = t_imgs[:last_idx2,:]\n",
    "    t_imgs_class4 = t_imgs[last_idx2:last_idx4]\n",
    "    return t_imgs_class2, t_imgs_class4\n",
    "\n",
    "def getActualClasses(filename):\n",
    "    return np.genfromtxt(filename, np.uint8)\n",
    "\n",
    "def calculateProbability(img, classx_0_prob, classx_1_prob, classx_prob):\n",
    "    probx = 1\n",
    "    for idx, feature in enumerate(img):\n",
    "        if feature == 0:\n",
    "            probx *= classx_0_prob[idx]\n",
    "        elif feature == 1:\n",
    "            probx *= classx_1_prob[idx]\n",
    "    return (probx * classx_prob)\n",
    "\n",
    "def getPredictedClasses(filename, actual_classes_shape, prob_list):\n",
    "    imgs_features = np.genfromtxt(filename, np.uint8)\n",
    "    p_classes = np.zeros((actual_classes_shape), np.uint8)\n",
    "    for idx, img in enumerate(imgs_features):\n",
    "        prob2 = calculateProbability(img, prob_list[1], prob_list[2], prob_list[0])\n",
    "        prob4 = calculateProbability(img, prob_list[4], prob_list[5], prob_list[3])\n",
    "        v = max(prob2, prob4)\n",
    "        if v is prob2:\n",
    "            p_classes[idx] = 2\n",
    "        elif v is prob4:\n",
    "            p_classes[idx] = 4\n",
    "    return p_classes\n",
    "\n",
    "def calculateAccuracy(actual, predicted):\n",
    "    positive, negative = (2, 4)\n",
    "    tp, tn, fp, fn = (0, 0, 0, 0)\n",
    "    for a, p in zip(actual, predicted):\n",
    "        if a == positive and p == positive:\n",
    "            tp += 1\n",
    "        elif a == positive and p == negative:\n",
    "            fn += 1\n",
    "        elif a == negative and p == negative:\n",
    "            tn += 1\n",
    "        elif a == negative and p == positive:\n",
    "            fp += 1\n",
    "    \n",
    "    return (tp+tn)/(tp+tn+fp+fn)*100"
   ]
  },
  {
   "cell_type": "code",
   "execution_count": 3,
   "metadata": {},
   "outputs": [],
   "source": [
    "# TRAINING\n",
    "trn_c2, trn_c4, trn_c2_last_idx, trn_c4_last_idx = refineTrainingClasses(\"trainY.txt\")\n",
    "trn_i2, trn_i4 = refineTrainingImages(\"trainX.txt\", trn_c2_last_idx, trn_c4_last_idx)\n",
    "# CALCULATING PROBABILITIES\n",
    "class2_prob = (np.count_nonzero(trn_c2 == 2))/(np.count_nonzero(trn_c2 == 2)+np.count_nonzero(trn_c4 == 4))\n",
    "class4_prob = 1 - class2_prob\n",
    "class2_1_prob = trn_i2.sum(axis=0)/trn_i2.shape[0]\n",
    "class2_0_prob = 1 - class2_1_prob\n",
    "class4_1_prob = trn_i4.sum(axis=0)/trn_i4.shape[0]\n",
    "class4_0_prob = 1 - class4_1_prob\n",
    "prob_list = [class2_prob, class2_0_prob, class2_1_prob, class4_prob, class4_0_prob, class4_1_prob]\n",
    "# TESTING\n",
    "actual_classes = getActualClasses(\"testY.txt\")\n",
    "predicted_classes = getPredictedClasses(\"testX.txt\", actual_classes.shape, prob_list)\n",
    "# CLASSIFICATION ACCURACY\n",
    "accuracy = calculateAccuracy(actual_classes, predicted_classes)"
   ]
  },
  {
   "cell_type": "code",
   "execution_count": 4,
   "metadata": {},
   "outputs": [
    {
     "name": "stdout",
     "output_type": "stream",
     "text": [
      "Actual and Predicted Classes are following respectively:\n",
      "[(2, 2), (2, 2), (2, 2), (2, 2), (2, 2), (2, 2), (2, 2), (2, 2), (2, 2), (2, 2), (2, 2), (2, 2), (2, 2), (2, 2), (2, 2), (2, 2), (2, 2), (2, 2), (2, 2), (2, 2), (2, 2), (2, 2), (2, 2), (2, 2), (2, 2), (2, 2), (2, 2), (2, 2), (2, 2), (2, 2), (2, 2), (2, 2), (2, 2), (2, 2), (2, 2), (2, 2), (2, 2), (2, 2), (2, 2), (2, 2), (2, 2), (2, 2), (2, 2), (2, 2), (2, 2), (2, 2), (2, 2), (2, 2), (2, 2), (2, 2), (4, 4), (4, 4), (4, 4), (4, 4), (4, 4), (4, 4), (4, 4), (4, 4), (4, 4), (4, 4), (4, 4), (4, 4), (4, 4), (4, 4), (4, 4), (4, 4), (4, 4), (4, 4), (4, 4), (4, 4), (4, 4), (4, 4), (4, 4), (4, 4), (4, 4), (4, 4), (4, 4), (4, 4), (4, 4), (4, 4), (4, 4), (4, 4), (4, 4), (4, 4), (4, 4), (4, 4), (4, 4), (4, 4), (4, 4), (4, 4), (4, 4), (4, 4), (4, 4), (4, 4), (4, 4), (4, 4), (4, 4), (4, 4), (4, 4), (4, 4)].\n",
      "Accuraccy for Actual and Predicted classes is: 100.0%.\n"
     ]
    }
   ],
   "source": [
    "print(\"Actual and Predicted Classes are following respectively:\\n{0}.\".format(list(zip(actual_classes,predicted_classes))))\n",
    "print(\"Accuraccy for Actual and Predicted classes is: {0}%.\".format(accuracy))"
   ]
  }
 ],
 "metadata": {
  "kernelspec": {
   "display_name": "Python 3",
   "language": "python",
   "name": "python3"
  },
  "language_info": {
   "codemirror_mode": {
    "name": "ipython",
    "version": 3
   },
   "file_extension": ".py",
   "mimetype": "text/x-python",
   "name": "python",
   "nbconvert_exporter": "python",
   "pygments_lexer": "ipython3",
   "version": "3.7.4"
  }
 },
 "nbformat": 4,
 "nbformat_minor": 2
}
